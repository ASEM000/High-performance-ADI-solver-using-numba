{
 "cells": [
  {
   "cell_type": "markdown",
   "metadata": {},
   "source": [
    "## Example "
   ]
  },
  {
   "cell_type": "code",
   "execution_count": 7,
   "metadata": {
    "ExecuteTime": {
     "end_time": "2020-09-16T05:58:49.567152Z",
     "start_time": "2020-09-16T05:58:49.547174Z"
    }
   },
   "outputs": [
    {
     "data": {
      "text/plain": [
       "'\\n Solve a grid of 10x10 (boundaries inclusive) with \\n -- boundary conditions of 100 Top, 50 right , 0 botton , 75 left  \\n -- initial condition of 0\\n -- Kdt/(dx^2)=0.0835\\n -- time step = 1000\\n'"
      ]
     },
     "execution_count": 7,
     "metadata": {},
     "output_type": "execute_result"
    }
   ],
   "source": [
    "'''\n",
    " Solve a grid of 10x10 (boundaries inclusive) with \n",
    " -- boundary conditions of 100 Top, 50 right , 0 botton , 75 left  \n",
    " -- initial condition of 0\n",
    " -- Kdt/(dx^2)=0.0835\n",
    " -- time step = 1000\n",
    "'''"
   ]
  },
  {
   "cell_type": "markdown",
   "metadata": {},
   "source": [
    "## Visualize"
   ]
  },
  {
   "cell_type": "markdown",
   "metadata": {},
   "source": [
    "### Generate grid"
   ]
  },
  {
   "cell_type": "code",
   "execution_count": 10,
   "metadata": {},
   "outputs": [],
   "source": [
    "import matplotlib.pyplot as plt\n",
    "import matplotlib.pyplot as plt\n",
    "from mpl_toolkits.axes_grid1 import ImageGrid\n",
    "\n",
    "def show_heat_maps(*grids,annotate=False,save=False):\n",
    "\n",
    "    \n",
    "#     if annotate:\n",
    "#         N,M = int(grids1.shape[0]),int(grids1.shape[1])\n",
    "#         for k in range(N):\n",
    "#             for j in range(M):\n",
    "#                 text1 = ax1.text(j, k, \n",
    "#                                np.round(grids1[k, j],1),\n",
    "#                                ha=\"center\", va=\"center\", color=\"w\",fontsize=12)\n",
    "                \n",
    "#                 text2 = ax2.text(j, k, \n",
    "#                                np.round(grids2[k, j],1),\n",
    "#                                ha=\"center\", va=\"center\", color=\"w\",fontsize=12)\n",
    "     \n",
    "# #                 text3 = ax3.text(j, k, \n",
    "# #                                np.round(diff[k, j],1),\n",
    "# #                                ha=\"center\", va=\"center\", color=\"w\")\n",
    "\n",
    "    \n",
    "    # Set up figure and image grid\n",
    "    fig = plt.figure(figsize=(30, 10))\n",
    "\n",
    "    grid = ImageGrid(fig, 111,          # as in plt.subplot(111)\n",
    "                     nrows_ncols=(1,len(grids)),\n",
    "                     axes_pad=0.25,\n",
    "                     share_all=True,\n",
    "                     cbar_location=\"left\",\n",
    "                     cbar_mode=\"single\",\n",
    "                     cbar_size=\"5%\",\n",
    "                     cbar_pad=0.25,\n",
    "                     )\n",
    "\n",
    "    # Add data to image grid\n",
    "    for ax,g in zip(grid,grids):#,['Numerical solution','DefusionNet','Difference']):\n",
    "        im = ax.imshow(g[0])\n",
    "        ax.title.set_text(g[1])\n",
    "\n",
    "\n",
    "        if annotate:\n",
    "            N,M = int(g[0].shape[0]),int(g[0].shape[1])\n",
    "            for k in range(N):\n",
    "                for j in range(M):\n",
    "                    text1 = ax.text(j, k, np.round(g[0][k, j],1),ha=\"center\", va=\"center\", color=\"w\",fontsize=12)\n",
    "\n",
    "    # Colorbar\n",
    "    ax.cax.colorbar(im)\n",
    "    ax.cax.toggle_label(True)\n",
    "\n",
    "    #plt.tight_layout()    # Works, but may still require rect paramater to keep colorbar labels visible\n",
    "    plt.show()"
   ]
  },
  {
   "cell_type": "code",
   "execution_count": 4,
   "metadata": {},
   "outputs": [
    {
     "output_type": "display_data",
     "data": {
      "text/plain": "interactive(children=(IntSlider(value=50, continuous_update=False, description='grid size (NxN)', layout=Layou…",
      "application/vnd.jupyter.widget-view+json": {
       "version_major": 2,
       "version_minor": 0,
       "model_id": "dcbcc9a269bb41bdb1570adb6aea6cd1"
      }
     },
     "metadata": {}
    }
   ],
   "source": [
    "import ipywidgets\n",
    "import utils , ADI_SOLVER\n",
    "layout = ipywidgets.Layout(width= '50%',height='30px',maring=\"50px\")\n",
    "bc1 = ipywidgets.IntSlider(min=0,max=1000,value = 681,step=1,description='Top BC' ,layout=layout,continuous_update=False,style = {'description_width': 'initial'})\n",
    "bc2 = ipywidgets.IntSlider(min=0,max=1000,value=205,step=1,description='Right BC' ,layout=layout,continuous_update=False,style = {'description_width': 'initial'})\n",
    "bc3 = ipywidgets.IntSlider(min=0,max=1000,value=239,step=1,description='Bottom BC' ,layout=layout,continuous_update=False,style = {'description_width': 'initial'})\n",
    "bc4 = ipywidgets.IntSlider(min=0,max=1000,step=1,value=611,description='Left BC' ,layout=layout,continuous_update=False,style = {'description_width': 'initial'})\n",
    "ic0 = ipywidgets.IntSlider(min=0,max=1000,step=1,value=71,description='IC' ,layout=layout,continuous_update=False,style = {'description_width': 'initial'})\n",
    "lam = ipywidgets.FloatSlider(min=0,max=0.5,value=239,step=0.001,description='lambda' ,layout=layout,continuous_update=False,readout_format='.5f',style = {'description_width': 'initial'})\n",
    "grid = ipywidgets.IntSlider(min=0,max=1000,step=1,value=50,description='grid size (NxN)' ,layout=layout,continuous_update=False,style = {'description_width': 'initial'})\n",
    "iters = ipywidgets.IntSlider(min=0,max=1000,step=1,value=10,description='iterations' ,layout=layout,continuous_update=False,style = {'description_width': 'initial'})\n",
    "time_step = ipywidgets.IntSlider(min=0,max=1000,step=1,value=10,description='plot time step' ,layout=layout,continuous_update=False,style = {'description_width': 'initial'})\n",
    "interact_calc=ipywidgets.interact.options(manual=True, manual_name=\"Solve!\")\n",
    "\n",
    "@interact_calc(grid_size=grid,bc1=bc1,bc2=bc2,bc3=bc3,bc4=bc4,ic0=ic0,Lambda=lam,iters=iters,time_step=time_step)\n",
    "def adi_solver_interact(grid_size,bc1,bc2,bc3,bc4,ic0,Lambda,iters,time_step):\n",
    "    grid = utils.generate_grid(n = grid_size , bc=(bc1,bc2,bc3,bc4) , ic=ic0)\n",
    "    solution = ADI_SOLVER.solve(grid.copy(),Lambda=Lambda,iters=iters,steps = True)\n",
    "    if time_step <=iters :\n",
    "        utils.show_heat_maps((solution[time_step],f'Numerical solution at time step ={time_step}'))\n",
    "    else:\n",
    "        print('Error : solution iterations < plotting time step')"
   ]
  }
 ],
 "metadata": {
  "hide_input": false,
  "kernelspec": {
   "display_name": "Python 3",
   "language": "python",
   "name": "python3"
  },
  "language_info": {
   "codemirror_mode": {
    "name": "ipython",
    "version": 3
   },
   "file_extension": ".py",
   "mimetype": "text/x-python",
   "name": "python",
   "nbconvert_exporter": "python",
   "pygments_lexer": "ipython3",
   "version": "3.7.6-final"
  },
  "latex_envs": {
   "LaTeX_envs_menu_present": true,
   "autoclose": false,
   "autocomplete": true,
   "bibliofile": "biblio.bib",
   "cite_by": "apalike",
   "current_citInitial": 1,
   "eqLabelWithNumbers": true,
   "eqNumInitial": 1,
   "hotkeys": {
    "equation": "Ctrl-E",
    "itemize": "Ctrl-I"
   },
   "labels_anchors": false,
   "latex_user_defs": false,
   "report_style_numbering": false,
   "user_envs_cfg": false
  },
  "varInspector": {
   "cols": {
    "lenName": 16,
    "lenType": 16,
    "lenVar": 40
   },
   "kernels_config": {
    "python": {
     "delete_cmd_postfix": "",
     "delete_cmd_prefix": "del ",
     "library": "var_list.py",
     "varRefreshCmd": "print(var_dic_list())"
    },
    "r": {
     "delete_cmd_postfix": ") ",
     "delete_cmd_prefix": "rm(",
     "library": "var_list.r",
     "varRefreshCmd": "cat(var_dic_list()) "
    }
   },
   "types_to_exclude": [
    "module",
    "function",
    "builtin_function_or_method",
    "instance",
    "_Feature"
   ],
   "window_display": false
  }
 },
 "nbformat": 4,
 "nbformat_minor": 4
}